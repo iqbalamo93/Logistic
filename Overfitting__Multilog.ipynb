{
  "nbformat": 4,
  "nbformat_minor": 0,
  "metadata": {
    "colab": {
      "name": "Overfitting _Multilog.ipynb",
      "provenance": [],
      "authorship_tag": "ABX9TyPDlCmLzaBdsv26zwndQq52",
      "include_colab_link": true
    },
    "kernelspec": {
      "name": "python3",
      "display_name": "Python 3"
    }
  },
  "cells": [
    {
      "cell_type": "markdown",
      "metadata": {
        "id": "view-in-github",
        "colab_type": "text"
      },
      "source": [
        "<a href=\"https://colab.research.google.com/github/iqbalamo93/Logistic/blob/master/Overfitting__Multilog.ipynb\" target=\"_parent\"><img src=\"https://colab.research.google.com/assets/colab-badge.svg\" alt=\"Open In Colab\"/></a>"
      ]
    },
    {
      "cell_type": "code",
      "metadata": {
        "id": "oGpFDculbNLR",
        "colab_type": "code",
        "colab": {}
      },
      "source": [
        "url='https://dsserver-prod-resources-1.s3.amazonaws.com/132/auto-mpg.data'"
      ],
      "execution_count": 0,
      "outputs": []
    },
    {
      "cell_type": "code",
      "metadata": {
        "id": "2YGgV7_mcDme",
        "colab_type": "code",
        "colab": {}
      },
      "source": [
        "import pandas as pd\n",
        "import numpy as np\n",
        "import seaborn as sns\n",
        "import matplotlib.pyplot as plt\n"
      ],
      "execution_count": 0,
      "outputs": []
    },
    {
      "cell_type": "code",
      "metadata": {
        "id": "rWBh0MiacN3u",
        "colab_type": "code",
        "colab": {}
      },
      "source": [
        "columns = [\"mpg\", \"cylinders\", \"displacement\", \"horsepower\", \"weight\", \"acceleration\", \"model year\", \"origin\", \"car name\"]\n",
        "cars = pd.read_table(url, delim_whitespace=True, names=columns)\n",
        "filtered_cars = cars[cars['horsepower'] != '?'].copy()\n",
        "filtered_cars['horsepower'] = filtered_cars['horsepower'].astype('float')"
      ],
      "execution_count": 0,
      "outputs": []
    },
    {
      "cell_type": "code",
      "metadata": {
        "id": "aApTbdjRcVf4",
        "colab_type": "code",
        "colab": {}
      },
      "source": [
        "from sklearn.linear_model import LinearRegression\n",
        "from sklearn.metrics import mean_squared_error\n",
        "import numpy as np\n",
        "import matplotlib.pyplot as plt\n",
        "def train_and_test(cols):\n",
        "  # Split into features & target.\n",
        "  features = filtered_cars[cols]\n",
        "  target = filtered_cars[\"mpg\"]\n",
        "  # Fit model.\n",
        "  lr = LinearRegression()\n",
        "  lr.fit(features, target)\n",
        "  # Make predictions on training set.\n",
        "  predictions = lr.predict(features)\n",
        "  # Compute MSE and Variance.\n",
        "  mse = mean_squared_error(filtered_cars[\"mpg\"], predictions)\n",
        "  variance = np.var(predictions)\n",
        "  return(mse, variance)\n",
        "\n"
      ],
      "execution_count": 0,
      "outputs": []
    },
    {
      "cell_type": "code",
      "metadata": {
        "id": "kWthhy9F9lVx",
        "colab_type": "code",
        "colab": {}
      },
      "source": [
        "cyl_mse, cyl_var = train_and_test([\"cylinders\"])\n",
        "weight_mse, weight_var = train_and_test([\"weight\"])"
      ],
      "execution_count": 0,
      "outputs": []
    },
    {
      "cell_type": "code",
      "metadata": {
        "id": "3RU5NZqe-DZ-",
        "colab_type": "code",
        "colab": {
          "base_uri": "https://localhost:8080/",
          "height": 35
        },
        "outputId": "06cf5e66-7943-465a-ef3f-f2fd55e95648"
      },
      "source": [
        "cyl_mse, cyl_var"
      ],
      "execution_count": 16,
      "outputs": [
        {
          "output_type": "execute_result",
          "data": {
            "text/plain": [
              "(24.020179568155537, 36.74255887416014)"
            ]
          },
          "metadata": {
            "tags": []
          },
          "execution_count": 16
        }
      ]
    },
    {
      "cell_type": "code",
      "metadata": {
        "id": "2ZBn4P4I-Jhc",
        "colab_type": "code",
        "colab": {
          "base_uri": "https://localhost:8080/",
          "height": 35
        },
        "outputId": "14adc054-8e53-4fb4-bb16-344587d4601b"
      },
      "source": [
        "weight_mse, weight_var"
      ],
      "execution_count": 17,
      "outputs": [
        {
          "output_type": "execute_result",
          "data": {
            "text/plain": [
              "(18.6766165974193, 42.08612184489639)"
            ]
          },
          "metadata": {
            "tags": []
          },
          "execution_count": 17
        }
      ]
    },
    {
      "cell_type": "code",
      "metadata": {
        "id": "emrXJuI2-Mky",
        "colab_type": "code",
        "colab": {}
      },
      "source": [
        "# Our implementation for train_and_test, takes in a list of strings.\n",
        "def train_and_test(cols):\n",
        "    # Split into features & target.\n",
        "    features = filtered_cars[cols]\n",
        "    target = filtered_cars[\"mpg\"]\n",
        "    # Fit model.\n",
        "    lr = LinearRegression()\n",
        "    lr.fit(features, target)\n",
        "    # Make predictions on training set.\n",
        "    predictions = lr.predict(features)\n",
        "    # Compute MSE and Variance.\n",
        "    mse = mean_squared_error(filtered_cars[\"mpg\"], predictions)\n",
        "    variance = np.var(predictions)\n",
        "    return(mse, variance)\n",
        "\n",
        "one_mse, one_var = train_and_test([\"cylinders\"])\n",
        "two_mse, two_var = train_and_test([\"cylinders\", \"displacement\"])\n",
        "three_mse, three_var = train_and_test([\"cylinders\", \"displacement\", \"horsepower\"])\n",
        "four_mse, four_var = train_and_test([\"cylinders\", \"displacement\", \"horsepower\", \"weight\"])\n",
        "five_mse, five_var = train_and_test([\"cylinders\", \"displacement\", \"horsepower\", \"weight\", \"acceleration\"])\n",
        "six_mse, six_var = train_and_test([\"cylinders\", \"displacement\", \"horsepower\", \"weight\", \"acceleration\", \"model year\"])\n",
        "seven_mse, seven_var = train_and_test([\"cylinders\", \"displacement\", \"horsepower\", \"weight\", \"acceleration\",\"model year\", \"origin\"])"
      ],
      "execution_count": 0,
      "outputs": []
    },
    {
      "cell_type": "code",
      "metadata": {
        "id": "ymc4sZbo-pge",
        "colab_type": "code",
        "colab": {
          "base_uri": "https://localhost:8080/",
          "height": 139
        },
        "outputId": "5508dad7-38c7-4ad6-d9c2-65cd30629f87"
      },
      "source": [
        "one_mse,two_mse,three_mse,four_mse,five_mse,six_mse,seven_mse #Bias is decreasig"
      ],
      "execution_count": 25,
      "outputs": [
        {
          "output_type": "execute_result",
          "data": {
            "text/plain": [
              "(24.020179568155537,\n",
              " 21.282057055586364,\n",
              " 20.25295483971423,\n",
              " 17.763860571843846,\n",
              " 17.761396105406217,\n",
              " 11.590170981415227,\n",
              " 10.847480945000449)"
            ]
          },
          "metadata": {
            "tags": []
          },
          "execution_count": 25
        }
      ]
    },
    {
      "cell_type": "code",
      "metadata": {
        "id": "C6wKybCv-2WP",
        "colab_type": "code",
        "colab": {}
      },
      "source": [
        "from sklearn.model_selection import KFold\n",
        "from sklearn.metrics import mean_squared_error\n",
        "import numpy as np\n",
        "def train_and_cross_val(cols):\n",
        "    features = filtered_cars[cols]\n",
        "    target = filtered_cars[\"mpg\"]\n",
        "    \n",
        "    variance_values = []\n",
        "    mse_values = []\n",
        "    \n",
        "    # KFold instance.\n",
        "    kf = KFold(n_splits=10, shuffle=True, random_state=3)\n",
        "    \n",
        "    # Iterate through over each fold.\n",
        "    for train_index, test_index in kf.split(features):\n",
        "        # Training and test sets.\n",
        "        X_train, X_test = features.iloc[train_index], features.iloc[test_index]\n",
        "        y_train, y_test = target.iloc[train_index], target.iloc[test_index]\n",
        "        \n",
        "        # Fit the model and make predictions.\n",
        "        lr = LinearRegression()\n",
        "        lr.fit(X_train, y_train)\n",
        "        predictions = lr.predict(X_test)\n",
        "        \n",
        "        # Calculate mse and variance values for this fold.\n",
        "        mse = mean_squared_error(y_test, predictions)\n",
        "        var = np.var(predictions)\n",
        "\n",
        "        # Append to arrays to do calculate overall average mse and variance values.\n",
        "        variance_values.append(var)\n",
        "        mse_values.append(mse)\n",
        "   \n",
        "    # Compute average mse and variance values.\n",
        "    avg_mse = np.mean(mse_values)\n",
        "    avg_var = np.mean(variance_values)\n",
        "    return(avg_mse, avg_var)\n",
        "        \n",
        "two_mse, two_var = train_and_cross_val([\"cylinders\", \"displacement\"])\n",
        "three_mse, three_var = train_and_cross_val([\"cylinders\", \"displacement\", \"horsepower\"])\n",
        "four_mse, four_var = train_and_cross_val([\"cylinders\", \"displacement\", \"horsepower\", \"weight\"])\n",
        "five_mse, five_var = train_and_cross_val([\"cylinders\", \"displacement\", \"horsepower\", \"weight\", \"acceleration\"])\n",
        "six_mse, six_var = train_and_cross_val([\"cylinders\", \"displacement\", \"horsepower\", \"weight\", \"acceleration\", \"model year\"])\n",
        "seven_mse, seven_var = train_and_cross_val([\"cylinders\", \"displacement\", \"horsepower\", \"weight\", \"acceleration\",\"model year\", \"origin\"])"
      ],
      "execution_count": 0,
      "outputs": []
    },
    {
      "cell_type": "code",
      "metadata": {
        "id": "w0XoCq8mAjul",
        "colab_type": "code",
        "colab": {}
      },
      "source": [
        "a=one_mse,two_mse,three_mse,four_mse,five_mse,six_mse,seven_mse\n",
        "b=two_var,three_var,four_var,five_var,six_var,seven_var"
      ],
      "execution_count": 0,
      "outputs": []
    },
    {
      "cell_type": "code",
      "metadata": {
        "id": "7TweIpezAoTV",
        "colab_type": "code",
        "colab": {
          "base_uri": "https://localhost:8080/",
          "height": 243
        },
        "outputId": "c7015cd0-a488-44d7-9e13-fd830fe78adc"
      },
      "source": [
        "a,b"
      ],
      "execution_count": 34,
      "outputs": [
        {
          "output_type": "execute_result",
          "data": {
            "text/plain": [
              "((24.020179568155537,\n",
              "  21.584370274954374,\n",
              "  20.655622193882955,\n",
              "  18.169683239081888,\n",
              "  18.283038517172056,\n",
              "  12.099685425467118,\n",
              "  11.41813197181206),\n",
              " (38.90252531375602,\n",
              "  40.091287956606955,\n",
              "  42.507643643644386,\n",
              "  42.5987363001468,\n",
              "  48.92824696771799,\n",
              "  49.90431373098732))"
            ]
          },
          "metadata": {
            "tags": []
          },
          "execution_count": 34
        }
      ]
    },
    {
      "cell_type": "code",
      "metadata": {
        "id": "fJ90O7UVIpMW",
        "colab_type": "code",
        "colab": {}
      },
      "source": [
        ""
      ],
      "execution_count": 0,
      "outputs": []
    }
  ]
}