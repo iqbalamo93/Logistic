{
  "nbformat": 4,
  "nbformat_minor": 0,
  "metadata": {
    "colab": {
      "name": "Logistic_Multiclass.ipynb",
      "provenance": [],
      "authorship_tag": "ABX9TyPWl/aPkHeu+NVGITpUpaHn",
      "include_colab_link": true
    },
    "kernelspec": {
      "name": "python3",
      "display_name": "Python 3"
    }
  },
  "cells": [
    {
      "cell_type": "markdown",
      "metadata": {
        "id": "view-in-github",
        "colab_type": "text"
      },
      "source": [
        "<a href=\"https://colab.research.google.com/github/iqbalamo93/Logistic/blob/master/Logistic_Multiclass.ipynb\" target=\"_parent\"><img src=\"https://colab.research.google.com/assets/colab-badge.svg\" alt=\"Open In Colab\"/></a>"
      ]
    },
    {
      "cell_type": "code",
      "metadata": {
        "id": "XVCvxykyvHzC",
        "colab_type": "code",
        "colab": {
          "base_uri": "https://localhost:8080/",
          "height": 72
        },
        "outputId": "32609916-6de3-4925-9e0c-70a832bc531d"
      },
      "source": [
        "url='https://dsserver-prod-resources-1.s3.amazonaws.com/24/auto.csv'\n",
        "import pandas as pd\n",
        "import numpy as np\n",
        "import matplotlib.pyplot as plt\n",
        "import seaborn as sns"
      ],
      "execution_count": 1,
      "outputs": [
        {
          "output_type": "stream",
          "text": [
            "/usr/local/lib/python3.6/dist-packages/statsmodels/tools/_testing.py:19: FutureWarning: pandas.util.testing is deprecated. Use the functions in the public API at pandas.testing instead.\n",
            "  import pandas.util.testing as tm\n"
          ],
          "name": "stderr"
        }
      ]
    },
    {
      "cell_type": "code",
      "metadata": {
        "id": "UQ73fGqasa8h",
        "colab_type": "code",
        "colab": {}
      },
      "source": [
        "pd.options.display.max_columns=255\n"
      ],
      "execution_count": 0,
      "outputs": []
    },
    {
      "cell_type": "code",
      "metadata": {
        "id": "RVHdrr3HwyCN",
        "colab_type": "code",
        "colab": {}
      },
      "source": [
        "cars = pd.read_csv(url)\n",
        "unique_regions = cars[\"origin\"].unique()\n"
      ],
      "execution_count": 0,
      "outputs": []
    },
    {
      "cell_type": "code",
      "metadata": {
        "id": "yUyzxLIfLZ8l",
        "colab_type": "code",
        "outputId": "137ae7bd-5ccc-4980-883e-db3b077d2a0c",
        "colab": {
          "base_uri": "https://localhost:8080/",
          "height": 35
        }
      },
      "source": [
        "unique_regions"
      ],
      "execution_count": 4,
      "outputs": [
        {
          "output_type": "execute_result",
          "data": {
            "text/plain": [
              "array([1, 3, 2])"
            ]
          },
          "metadata": {
            "tags": []
          },
          "execution_count": 4
        }
      ]
    },
    {
      "cell_type": "code",
      "metadata": {
        "id": "FrN-0TcSLgX9",
        "colab_type": "code",
        "outputId": "4b0f05b1-2aff-441b-db2b-e74a029eb942",
        "colab": {
          "base_uri": "https://localhost:8080/",
          "height": 202
        }
      },
      "source": [
        "cars.head()"
      ],
      "execution_count": 5,
      "outputs": [
        {
          "output_type": "execute_result",
          "data": {
            "text/html": [
              "<div>\n",
              "<style scoped>\n",
              "    .dataframe tbody tr th:only-of-type {\n",
              "        vertical-align: middle;\n",
              "    }\n",
              "\n",
              "    .dataframe tbody tr th {\n",
              "        vertical-align: top;\n",
              "    }\n",
              "\n",
              "    .dataframe thead th {\n",
              "        text-align: right;\n",
              "    }\n",
              "</style>\n",
              "<table border=\"1\" class=\"dataframe\">\n",
              "  <thead>\n",
              "    <tr style=\"text-align: right;\">\n",
              "      <th></th>\n",
              "      <th>mpg</th>\n",
              "      <th>cylinders</th>\n",
              "      <th>displacement</th>\n",
              "      <th>horsepower</th>\n",
              "      <th>weight</th>\n",
              "      <th>acceleration</th>\n",
              "      <th>year</th>\n",
              "      <th>origin</th>\n",
              "    </tr>\n",
              "  </thead>\n",
              "  <tbody>\n",
              "    <tr>\n",
              "      <th>0</th>\n",
              "      <td>18.0</td>\n",
              "      <td>8</td>\n",
              "      <td>307.0</td>\n",
              "      <td>130.0</td>\n",
              "      <td>3504.0</td>\n",
              "      <td>12.0</td>\n",
              "      <td>70</td>\n",
              "      <td>1</td>\n",
              "    </tr>\n",
              "    <tr>\n",
              "      <th>1</th>\n",
              "      <td>15.0</td>\n",
              "      <td>8</td>\n",
              "      <td>350.0</td>\n",
              "      <td>165.0</td>\n",
              "      <td>3693.0</td>\n",
              "      <td>11.5</td>\n",
              "      <td>70</td>\n",
              "      <td>1</td>\n",
              "    </tr>\n",
              "    <tr>\n",
              "      <th>2</th>\n",
              "      <td>18.0</td>\n",
              "      <td>8</td>\n",
              "      <td>318.0</td>\n",
              "      <td>150.0</td>\n",
              "      <td>3436.0</td>\n",
              "      <td>11.0</td>\n",
              "      <td>70</td>\n",
              "      <td>1</td>\n",
              "    </tr>\n",
              "    <tr>\n",
              "      <th>3</th>\n",
              "      <td>16.0</td>\n",
              "      <td>8</td>\n",
              "      <td>304.0</td>\n",
              "      <td>150.0</td>\n",
              "      <td>3433.0</td>\n",
              "      <td>12.0</td>\n",
              "      <td>70</td>\n",
              "      <td>1</td>\n",
              "    </tr>\n",
              "    <tr>\n",
              "      <th>4</th>\n",
              "      <td>17.0</td>\n",
              "      <td>8</td>\n",
              "      <td>302.0</td>\n",
              "      <td>140.0</td>\n",
              "      <td>3449.0</td>\n",
              "      <td>10.5</td>\n",
              "      <td>70</td>\n",
              "      <td>1</td>\n",
              "    </tr>\n",
              "  </tbody>\n",
              "</table>\n",
              "</div>"
            ],
            "text/plain": [
              "    mpg  cylinders  displacement  horsepower  weight  acceleration  year  \\\n",
              "0  18.0          8         307.0       130.0  3504.0          12.0    70   \n",
              "1  15.0          8         350.0       165.0  3693.0          11.5    70   \n",
              "2  18.0          8         318.0       150.0  3436.0          11.0    70   \n",
              "3  16.0          8         304.0       150.0  3433.0          12.0    70   \n",
              "4  17.0          8         302.0       140.0  3449.0          10.5    70   \n",
              "\n",
              "   origin  \n",
              "0       1  \n",
              "1       1  \n",
              "2       1  \n",
              "3       1  \n",
              "4       1  "
            ]
          },
          "metadata": {
            "tags": []
          },
          "execution_count": 5
        }
      ]
    },
    {
      "cell_type": "code",
      "metadata": {
        "id": "RwjqywDDLk2M",
        "colab_type": "code",
        "outputId": "f0ff430d-29f2-4537-f79e-9de15aa14e36",
        "colab": {
          "base_uri": "https://localhost:8080/",
          "height": 260
        }
      },
      "source": [
        "cars['year'].value_counts()"
      ],
      "execution_count": 6,
      "outputs": [
        {
          "output_type": "execute_result",
          "data": {
            "text/plain": [
              "73    40\n",
              "78    36\n",
              "76    34\n",
              "82    30\n",
              "75    30\n",
              "79    29\n",
              "70    29\n",
              "81    28\n",
              "77    28\n",
              "72    28\n",
              "80    27\n",
              "71    27\n",
              "74    26\n",
              "Name: year, dtype: int64"
            ]
          },
          "metadata": {
            "tags": []
          },
          "execution_count": 6
        }
      ]
    },
    {
      "cell_type": "code",
      "metadata": {
        "id": "Hyt0WIXaaVLf",
        "colab_type": "code",
        "outputId": "41f734ce-05f8-4ffe-8ab6-042168bd8212",
        "colab": {
          "base_uri": "https://localhost:8080/",
          "height": 364
        }
      },
      "source": [
        "dummy_cylinders = pd.get_dummies(cars[\"cylinders\"], prefix=\"cyl\")\n",
        "cars = pd.concat([cars, dummy_cylinders], axis=1)\n",
        "dummy_years = pd.get_dummies(cars[\"year\"], prefix=\"year\")\n",
        "cars = pd.concat([cars, dummy_years], axis=1)\n",
        "cars = cars.drop(\"year\", axis=1)\n",
        "cars = cars.drop(\"cylinders\", axis=1)\n",
        "print(cars.head())"
      ],
      "execution_count": 7,
      "outputs": [
        {
          "output_type": "stream",
          "text": [
            "    mpg  displacement  horsepower  weight  acceleration  origin  cyl_3  cyl_4  \\\n",
            "0  18.0         307.0       130.0  3504.0          12.0       1      0      0   \n",
            "1  15.0         350.0       165.0  3693.0          11.5       1      0      0   \n",
            "2  18.0         318.0       150.0  3436.0          11.0       1      0      0   \n",
            "3  16.0         304.0       150.0  3433.0          12.0       1      0      0   \n",
            "4  17.0         302.0       140.0  3449.0          10.5       1      0      0   \n",
            "\n",
            "   cyl_5  cyl_6  cyl_8  year_70  year_71  year_72  year_73  year_74  year_75  \\\n",
            "0      0      0      1        1        0        0        0        0        0   \n",
            "1      0      0      1        1        0        0        0        0        0   \n",
            "2      0      0      1        1        0        0        0        0        0   \n",
            "3      0      0      1        1        0        0        0        0        0   \n",
            "4      0      0      1        1        0        0        0        0        0   \n",
            "\n",
            "   year_76  year_77  year_78  year_79  year_80  year_81  year_82  \n",
            "0        0        0        0        0        0        0        0  \n",
            "1        0        0        0        0        0        0        0  \n",
            "2        0        0        0        0        0        0        0  \n",
            "3        0        0        0        0        0        0        0  \n",
            "4        0        0        0        0        0        0        0  \n"
          ],
          "name": "stdout"
        }
      ]
    },
    {
      "cell_type": "code",
      "metadata": {
        "id": "84-R-aDFcGk5",
        "colab_type": "code",
        "outputId": "a9ff8294-d9f1-42ed-9789-e57885fe44a9",
        "colab": {
          "base_uri": "https://localhost:8080/",
          "height": 222
        }
      },
      "source": [
        "cars.head()"
      ],
      "execution_count": 8,
      "outputs": [
        {
          "output_type": "execute_result",
          "data": {
            "text/html": [
              "<div>\n",
              "<style scoped>\n",
              "    .dataframe tbody tr th:only-of-type {\n",
              "        vertical-align: middle;\n",
              "    }\n",
              "\n",
              "    .dataframe tbody tr th {\n",
              "        vertical-align: top;\n",
              "    }\n",
              "\n",
              "    .dataframe thead th {\n",
              "        text-align: right;\n",
              "    }\n",
              "</style>\n",
              "<table border=\"1\" class=\"dataframe\">\n",
              "  <thead>\n",
              "    <tr style=\"text-align: right;\">\n",
              "      <th></th>\n",
              "      <th>mpg</th>\n",
              "      <th>displacement</th>\n",
              "      <th>horsepower</th>\n",
              "      <th>weight</th>\n",
              "      <th>acceleration</th>\n",
              "      <th>origin</th>\n",
              "      <th>cyl_3</th>\n",
              "      <th>cyl_4</th>\n",
              "      <th>cyl_5</th>\n",
              "      <th>cyl_6</th>\n",
              "      <th>cyl_8</th>\n",
              "      <th>year_70</th>\n",
              "      <th>year_71</th>\n",
              "      <th>year_72</th>\n",
              "      <th>year_73</th>\n",
              "      <th>year_74</th>\n",
              "      <th>year_75</th>\n",
              "      <th>year_76</th>\n",
              "      <th>year_77</th>\n",
              "      <th>year_78</th>\n",
              "      <th>year_79</th>\n",
              "      <th>year_80</th>\n",
              "      <th>year_81</th>\n",
              "      <th>year_82</th>\n",
              "    </tr>\n",
              "  </thead>\n",
              "  <tbody>\n",
              "    <tr>\n",
              "      <th>0</th>\n",
              "      <td>18.0</td>\n",
              "      <td>307.0</td>\n",
              "      <td>130.0</td>\n",
              "      <td>3504.0</td>\n",
              "      <td>12.0</td>\n",
              "      <td>1</td>\n",
              "      <td>0</td>\n",
              "      <td>0</td>\n",
              "      <td>0</td>\n",
              "      <td>0</td>\n",
              "      <td>1</td>\n",
              "      <td>1</td>\n",
              "      <td>0</td>\n",
              "      <td>0</td>\n",
              "      <td>0</td>\n",
              "      <td>0</td>\n",
              "      <td>0</td>\n",
              "      <td>0</td>\n",
              "      <td>0</td>\n",
              "      <td>0</td>\n",
              "      <td>0</td>\n",
              "      <td>0</td>\n",
              "      <td>0</td>\n",
              "      <td>0</td>\n",
              "    </tr>\n",
              "    <tr>\n",
              "      <th>1</th>\n",
              "      <td>15.0</td>\n",
              "      <td>350.0</td>\n",
              "      <td>165.0</td>\n",
              "      <td>3693.0</td>\n",
              "      <td>11.5</td>\n",
              "      <td>1</td>\n",
              "      <td>0</td>\n",
              "      <td>0</td>\n",
              "      <td>0</td>\n",
              "      <td>0</td>\n",
              "      <td>1</td>\n",
              "      <td>1</td>\n",
              "      <td>0</td>\n",
              "      <td>0</td>\n",
              "      <td>0</td>\n",
              "      <td>0</td>\n",
              "      <td>0</td>\n",
              "      <td>0</td>\n",
              "      <td>0</td>\n",
              "      <td>0</td>\n",
              "      <td>0</td>\n",
              "      <td>0</td>\n",
              "      <td>0</td>\n",
              "      <td>0</td>\n",
              "    </tr>\n",
              "    <tr>\n",
              "      <th>2</th>\n",
              "      <td>18.0</td>\n",
              "      <td>318.0</td>\n",
              "      <td>150.0</td>\n",
              "      <td>3436.0</td>\n",
              "      <td>11.0</td>\n",
              "      <td>1</td>\n",
              "      <td>0</td>\n",
              "      <td>0</td>\n",
              "      <td>0</td>\n",
              "      <td>0</td>\n",
              "      <td>1</td>\n",
              "      <td>1</td>\n",
              "      <td>0</td>\n",
              "      <td>0</td>\n",
              "      <td>0</td>\n",
              "      <td>0</td>\n",
              "      <td>0</td>\n",
              "      <td>0</td>\n",
              "      <td>0</td>\n",
              "      <td>0</td>\n",
              "      <td>0</td>\n",
              "      <td>0</td>\n",
              "      <td>0</td>\n",
              "      <td>0</td>\n",
              "    </tr>\n",
              "    <tr>\n",
              "      <th>3</th>\n",
              "      <td>16.0</td>\n",
              "      <td>304.0</td>\n",
              "      <td>150.0</td>\n",
              "      <td>3433.0</td>\n",
              "      <td>12.0</td>\n",
              "      <td>1</td>\n",
              "      <td>0</td>\n",
              "      <td>0</td>\n",
              "      <td>0</td>\n",
              "      <td>0</td>\n",
              "      <td>1</td>\n",
              "      <td>1</td>\n",
              "      <td>0</td>\n",
              "      <td>0</td>\n",
              "      <td>0</td>\n",
              "      <td>0</td>\n",
              "      <td>0</td>\n",
              "      <td>0</td>\n",
              "      <td>0</td>\n",
              "      <td>0</td>\n",
              "      <td>0</td>\n",
              "      <td>0</td>\n",
              "      <td>0</td>\n",
              "      <td>0</td>\n",
              "    </tr>\n",
              "    <tr>\n",
              "      <th>4</th>\n",
              "      <td>17.0</td>\n",
              "      <td>302.0</td>\n",
              "      <td>140.0</td>\n",
              "      <td>3449.0</td>\n",
              "      <td>10.5</td>\n",
              "      <td>1</td>\n",
              "      <td>0</td>\n",
              "      <td>0</td>\n",
              "      <td>0</td>\n",
              "      <td>0</td>\n",
              "      <td>1</td>\n",
              "      <td>1</td>\n",
              "      <td>0</td>\n",
              "      <td>0</td>\n",
              "      <td>0</td>\n",
              "      <td>0</td>\n",
              "      <td>0</td>\n",
              "      <td>0</td>\n",
              "      <td>0</td>\n",
              "      <td>0</td>\n",
              "      <td>0</td>\n",
              "      <td>0</td>\n",
              "      <td>0</td>\n",
              "      <td>0</td>\n",
              "    </tr>\n",
              "  </tbody>\n",
              "</table>\n",
              "</div>"
            ],
            "text/plain": [
              "    mpg  displacement  horsepower  weight  acceleration  origin  cyl_3  cyl_4  \\\n",
              "0  18.0         307.0       130.0  3504.0          12.0       1      0      0   \n",
              "1  15.0         350.0       165.0  3693.0          11.5       1      0      0   \n",
              "2  18.0         318.0       150.0  3436.0          11.0       1      0      0   \n",
              "3  16.0         304.0       150.0  3433.0          12.0       1      0      0   \n",
              "4  17.0         302.0       140.0  3449.0          10.5       1      0      0   \n",
              "\n",
              "   cyl_5  cyl_6  cyl_8  year_70  year_71  year_72  year_73  year_74  year_75  \\\n",
              "0      0      0      1        1        0        0        0        0        0   \n",
              "1      0      0      1        1        0        0        0        0        0   \n",
              "2      0      0      1        1        0        0        0        0        0   \n",
              "3      0      0      1        1        0        0        0        0        0   \n",
              "4      0      0      1        1        0        0        0        0        0   \n",
              "\n",
              "   year_76  year_77  year_78  year_79  year_80  year_81  year_82  \n",
              "0        0        0        0        0        0        0        0  \n",
              "1        0        0        0        0        0        0        0  \n",
              "2        0        0        0        0        0        0        0  \n",
              "3        0        0        0        0        0        0        0  \n",
              "4        0        0        0        0        0        0        0  "
            ]
          },
          "metadata": {
            "tags": []
          },
          "execution_count": 8
        }
      ]
    },
    {
      "cell_type": "code",
      "metadata": {
        "id": "do9PlyXfsjn0",
        "colab_type": "code",
        "colab": {}
      },
      "source": [
        "shuffled_rows  =  np.random.permutation(cars.index)\n",
        "shuffled_cars = cars.iloc[shuffled_rows]"
      ],
      "execution_count": 0,
      "outputs": []
    },
    {
      "cell_type": "code",
      "metadata": {
        "id": "3kAEMXGGGCp9",
        "colab_type": "code",
        "colab": {}
      },
      "source": [
        "shuffled_rows = np.random.permutation(cars.index)\n",
        "shuffled_cars = cars.iloc[shuffled_rows]\n",
        "highest_train_row = int(cars.shape[0] * .70)\n",
        "train = shuffled_cars.iloc[0:highest_train_row]\n",
        "test = shuffled_cars.iloc[highest_train_row:]"
      ],
      "execution_count": 0,
      "outputs": []
    },
    {
      "cell_type": "code",
      "metadata": {
        "id": "5UTS9la_HKzJ",
        "colab_type": "code",
        "colab": {
          "base_uri": "https://localhost:8080/",
          "height": 415
        },
        "outputId": "b84d19cd-b0b0-4b37-9dfe-3cc3e52d242b"
      },
      "source": [
        "shuffled_cars.loc[0:highest_train_row,['displacement','acceleration']]"
      ],
      "execution_count": 11,
      "outputs": [
        {
          "output_type": "execute_result",
          "data": {
            "text/html": [
              "<div>\n",
              "<style scoped>\n",
              "    .dataframe tbody tr th:only-of-type {\n",
              "        vertical-align: middle;\n",
              "    }\n",
              "\n",
              "    .dataframe tbody tr th {\n",
              "        vertical-align: top;\n",
              "    }\n",
              "\n",
              "    .dataframe thead th {\n",
              "        text-align: right;\n",
              "    }\n",
              "</style>\n",
              "<table border=\"1\" class=\"dataframe\">\n",
              "  <thead>\n",
              "    <tr style=\"text-align: right;\">\n",
              "      <th></th>\n",
              "      <th>displacement</th>\n",
              "      <th>acceleration</th>\n",
              "    </tr>\n",
              "  </thead>\n",
              "  <tbody>\n",
              "    <tr>\n",
              "      <th>0</th>\n",
              "      <td>307.0</td>\n",
              "      <td>12.0</td>\n",
              "    </tr>\n",
              "    <tr>\n",
              "      <th>288</th>\n",
              "      <td>351.0</td>\n",
              "      <td>14.3</td>\n",
              "    </tr>\n",
              "    <tr>\n",
              "      <th>356</th>\n",
              "      <td>168.0</td>\n",
              "      <td>12.6</td>\n",
              "    </tr>\n",
              "    <tr>\n",
              "      <th>265</th>\n",
              "      <td>134.0</td>\n",
              "      <td>14.2</td>\n",
              "    </tr>\n",
              "    <tr>\n",
              "      <th>171</th>\n",
              "      <td>119.0</td>\n",
              "      <td>17.0</td>\n",
              "    </tr>\n",
              "    <tr>\n",
              "      <th>...</th>\n",
              "      <td>...</td>\n",
              "      <td>...</td>\n",
              "    </tr>\n",
              "    <tr>\n",
              "      <th>117</th>\n",
              "      <td>116.0</td>\n",
              "      <td>15.5</td>\n",
              "    </tr>\n",
              "    <tr>\n",
              "      <th>299</th>\n",
              "      <td>105.0</td>\n",
              "      <td>13.2</td>\n",
              "    </tr>\n",
              "    <tr>\n",
              "      <th>121</th>\n",
              "      <td>121.0</td>\n",
              "      <td>14.0</td>\n",
              "    </tr>\n",
              "    <tr>\n",
              "      <th>120</th>\n",
              "      <td>318.0</td>\n",
              "      <td>11.0</td>\n",
              "    </tr>\n",
              "    <tr>\n",
              "      <th>274</th>\n",
              "      <td>121.0</td>\n",
              "      <td>15.7</td>\n",
              "    </tr>\n",
              "  </tbody>\n",
              "</table>\n",
              "<p>132 rows × 2 columns</p>\n",
              "</div>"
            ],
            "text/plain": [
              "     displacement  acceleration\n",
              "0           307.0          12.0\n",
              "288         351.0          14.3\n",
              "356         168.0          12.6\n",
              "265         134.0          14.2\n",
              "171         119.0          17.0\n",
              "..            ...           ...\n",
              "117         116.0          15.5\n",
              "299         105.0          13.2\n",
              "121         121.0          14.0\n",
              "120         318.0          11.0\n",
              "274         121.0          15.7\n",
              "\n",
              "[132 rows x 2 columns]"
            ]
          },
          "metadata": {
            "tags": []
          },
          "execution_count": 11
        }
      ]
    },
    {
      "cell_type": "markdown",
      "metadata": {
        "id": "6--X251yL3rY",
        "colab_type": "text"
      },
      "source": [
        "In the one-vs-all approach, we're essentially converting an n-class (in our case n is 3) classification problem into n binary classification problems. For our case, we'll need to train 3 models:\n",
        "\n",
        "A model where all cars built in North America are considered Positive (1) and those built in Europe and Asia are considered Negative (0).\n",
        "A model where all cars built in Europe are considered Positive (1) and those built in North America and Asia are considered Negative (0).\n",
        "A model where all cars built in Asia are labeled Positive (1) and those built in North America and Europe are considered Negative (0).\n",
        "Each of these models is a binary classification model that will return a probability between 0 and 1. When we apply this model on new data, a probability value will be returned from each model (3 total). For each observation, we choose the label corresponding to the model that predicted the highest probability.\n",
        "\n",
        "We'll use the dummy variables we created from the cylinders and year columns to train 3 models using the LogisticRegression class from scikit-learn."
      ]
    },
    {
      "cell_type": "code",
      "metadata": {
        "id": "i1yez294HQXd",
        "colab_type": "code",
        "colab": {}
      },
      "source": [
        "from sklearn.linear_model import LogisticRegression\n",
        "\n",
        "unique_origins = cars[\"origin\"].unique()\n",
        "unique_origins.sort()\n",
        "\n",
        "models = {}"
      ],
      "execution_count": 0,
      "outputs": []
    },
    {
      "cell_type": "code",
      "metadata": {
        "id": "U-Si_RS_L3JX",
        "colab_type": "code",
        "colab": {
          "base_uri": "https://localhost:8080/",
          "height": 35
        },
        "outputId": "22d17aac-c272-4216-ba62-75e813c7333e"
      },
      "source": [
        "cars[\"origin\"].unique()\n"
      ],
      "execution_count": 13,
      "outputs": [
        {
          "output_type": "execute_result",
          "data": {
            "text/plain": [
              "array([1, 3, 2])"
            ]
          },
          "metadata": {
            "tags": []
          },
          "execution_count": 13
        }
      ]
    },
    {
      "cell_type": "code",
      "metadata": {
        "id": "JqItACxpL2kc",
        "colab_type": "code",
        "colab": {}
      },
      "source": [
        "cars[\"origin\"].unique().sort()"
      ],
      "execution_count": 0,
      "outputs": []
    },
    {
      "cell_type": "code",
      "metadata": {
        "id": "RDKwB9AKRqlO",
        "colab_type": "code",
        "colab": {}
      },
      "source": [
        ""
      ],
      "execution_count": 0,
      "outputs": []
    },
    {
      "cell_type": "code",
      "metadata": {
        "id": "lGcOZ6ksRwkc",
        "colab_type": "code",
        "colab": {}
      },
      "source": [
        "features = [c for c in train.columns if c.startswith(\"cyl\") or c.startswith(\"year\")]\n",
        "\n",
        "for origin in unique_origins:\n",
        "    model = LogisticRegression()\n",
        "    \n",
        "    X_train = train[features]\n",
        "    y_train = train[\"origin\"] == origin\n",
        "\n",
        "    model.fit(X_train, y_train)\n",
        "    models[origin] = model"
      ],
      "execution_count": 0,
      "outputs": []
    },
    {
      "cell_type": "code",
      "metadata": {
        "id": "eZBPAen6SJi8",
        "colab_type": "code",
        "colab": {
          "base_uri": "https://localhost:8080/",
          "height": 277
        },
        "outputId": "fa411f3d-5d66-40e7-c4c3-334923381b81"
      },
      "source": [
        "models"
      ],
      "execution_count": 16,
      "outputs": [
        {
          "output_type": "execute_result",
          "data": {
            "text/plain": [
              "{1: LogisticRegression(C=1.0, class_weight=None, dual=False, fit_intercept=True,\n",
              "                    intercept_scaling=1, l1_ratio=None, max_iter=100,\n",
              "                    multi_class='auto', n_jobs=None, penalty='l2',\n",
              "                    random_state=None, solver='lbfgs', tol=0.0001, verbose=0,\n",
              "                    warm_start=False),\n",
              " 2: LogisticRegression(C=1.0, class_weight=None, dual=False, fit_intercept=True,\n",
              "                    intercept_scaling=1, l1_ratio=None, max_iter=100,\n",
              "                    multi_class='auto', n_jobs=None, penalty='l2',\n",
              "                    random_state=None, solver='lbfgs', tol=0.0001, verbose=0,\n",
              "                    warm_start=False),\n",
              " 3: LogisticRegression(C=1.0, class_weight=None, dual=False, fit_intercept=True,\n",
              "                    intercept_scaling=1, l1_ratio=None, max_iter=100,\n",
              "                    multi_class='auto', n_jobs=None, penalty='l2',\n",
              "                    random_state=None, solver='lbfgs', tol=0.0001, verbose=0,\n",
              "                    warm_start=False)}"
            ]
          },
          "metadata": {
            "tags": []
          },
          "execution_count": 16
        }
      ]
    },
    {
      "cell_type": "code",
      "metadata": {
        "id": "7z2_fEQLSPJO",
        "colab_type": "code",
        "colab": {}
      },
      "source": [
        "testing_probs = pd.DataFrame(columns=unique_origins)  \n",
        "\n",
        "for origin in unique_origins:\n",
        "    # Select testing features.\n",
        "    X_test = test[features]   \n",
        "    # Compute probability of observation being in the origin.\n",
        "    testing_probs[origin] = models[origin].predict_proba(X_test)[:,1]"
      ],
      "execution_count": 0,
      "outputs": []
    },
    {
      "cell_type": "code",
      "metadata": {
        "id": "rL71aBFpTERf",
        "colab_type": "code",
        "colab": {
          "base_uri": "https://localhost:8080/",
          "height": 415
        },
        "outputId": "c79c4d13-d92e-459c-99e2-f856ed0be9c9"
      },
      "source": [
        "testing_probs"
      ],
      "execution_count": 18,
      "outputs": [
        {
          "output_type": "execute_result",
          "data": {
            "text/html": [
              "<div>\n",
              "<style scoped>\n",
              "    .dataframe tbody tr th:only-of-type {\n",
              "        vertical-align: middle;\n",
              "    }\n",
              "\n",
              "    .dataframe tbody tr th {\n",
              "        vertical-align: top;\n",
              "    }\n",
              "\n",
              "    .dataframe thead th {\n",
              "        text-align: right;\n",
              "    }\n",
              "</style>\n",
              "<table border=\"1\" class=\"dataframe\">\n",
              "  <thead>\n",
              "    <tr style=\"text-align: right;\">\n",
              "      <th></th>\n",
              "      <th>1</th>\n",
              "      <th>2</th>\n",
              "      <th>3</th>\n",
              "    </tr>\n",
              "  </thead>\n",
              "  <tbody>\n",
              "    <tr>\n",
              "      <th>0</th>\n",
              "      <td>0.898896</td>\n",
              "      <td>0.072305</td>\n",
              "      <td>0.032726</td>\n",
              "    </tr>\n",
              "    <tr>\n",
              "      <th>1</th>\n",
              "      <td>0.390384</td>\n",
              "      <td>0.223401</td>\n",
              "      <td>0.358604</td>\n",
              "    </tr>\n",
              "    <tr>\n",
              "      <th>2</th>\n",
              "      <td>0.969056</td>\n",
              "      <td>0.015841</td>\n",
              "      <td>0.031542</td>\n",
              "    </tr>\n",
              "    <tr>\n",
              "      <th>3</th>\n",
              "      <td>0.964060</td>\n",
              "      <td>0.033430</td>\n",
              "      <td>0.015891</td>\n",
              "    </tr>\n",
              "    <tr>\n",
              "      <th>4</th>\n",
              "      <td>0.300195</td>\n",
              "      <td>0.540543</td>\n",
              "      <td>0.160821</td>\n",
              "    </tr>\n",
              "    <tr>\n",
              "      <th>...</th>\n",
              "      <td>...</td>\n",
              "      <td>...</td>\n",
              "      <td>...</td>\n",
              "    </tr>\n",
              "    <tr>\n",
              "      <th>113</th>\n",
              "      <td>0.362921</td>\n",
              "      <td>0.300292</td>\n",
              "      <td>0.319182</td>\n",
              "    </tr>\n",
              "    <tr>\n",
              "      <th>114</th>\n",
              "      <td>0.887852</td>\n",
              "      <td>0.049132</td>\n",
              "      <td>0.061020</td>\n",
              "    </tr>\n",
              "    <tr>\n",
              "      <th>115</th>\n",
              "      <td>0.390384</td>\n",
              "      <td>0.223401</td>\n",
              "      <td>0.358604</td>\n",
              "    </tr>\n",
              "    <tr>\n",
              "      <th>116</th>\n",
              "      <td>0.302888</td>\n",
              "      <td>0.379401</td>\n",
              "      <td>0.308650</td>\n",
              "    </tr>\n",
              "    <tr>\n",
              "      <th>117</th>\n",
              "      <td>0.913489</td>\n",
              "      <td>0.049282</td>\n",
              "      <td>0.043300</td>\n",
              "    </tr>\n",
              "  </tbody>\n",
              "</table>\n",
              "<p>118 rows × 3 columns</p>\n",
              "</div>"
            ],
            "text/plain": [
              "            1         2         3\n",
              "0    0.898896  0.072305  0.032726\n",
              "1    0.390384  0.223401  0.358604\n",
              "2    0.969056  0.015841  0.031542\n",
              "3    0.964060  0.033430  0.015891\n",
              "4    0.300195  0.540543  0.160821\n",
              "..        ...       ...       ...\n",
              "113  0.362921  0.300292  0.319182\n",
              "114  0.887852  0.049132  0.061020\n",
              "115  0.390384  0.223401  0.358604\n",
              "116  0.302888  0.379401  0.308650\n",
              "117  0.913489  0.049282  0.043300\n",
              "\n",
              "[118 rows x 3 columns]"
            ]
          },
          "metadata": {
            "tags": []
          },
          "execution_count": 18
        }
      ]
    },
    {
      "cell_type": "code",
      "metadata": {
        "id": "oTCZib2MT0CH",
        "colab_type": "code",
        "colab": {}
      },
      "source": [
        "X_train = train[features]\n",
        "y_train = train[\"origin\"] == 1"
      ],
      "execution_count": 0,
      "outputs": []
    },
    {
      "cell_type": "code",
      "metadata": {
        "id": "zsbxvXFoUPNM",
        "colab_type": "code",
        "colab": {
          "base_uri": "https://localhost:8080/",
          "height": 35
        },
        "outputId": "fea81130-a819-4605-d2d3-9321e79384d3"
      },
      "source": [
        "X_train.shape,y_train.shape\n",
        "\n"
      ],
      "execution_count": 20,
      "outputs": [
        {
          "output_type": "execute_result",
          "data": {
            "text/plain": [
              "((274, 18), (274,))"
            ]
          },
          "metadata": {
            "tags": []
          },
          "execution_count": 20
        }
      ]
    },
    {
      "cell_type": "code",
      "metadata": {
        "id": "viMFHxdNUQ_O",
        "colab_type": "code",
        "colab": {
          "base_uri": "https://localhost:8080/",
          "height": 225
        },
        "outputId": "ff6a8398-ed11-466b-8afa-acfa9600b174"
      },
      "source": [
        "train[\"origin\"] "
      ],
      "execution_count": 21,
      "outputs": [
        {
          "output_type": "execute_result",
          "data": {
            "text/plain": [
              "308    3\n",
              "153    1\n",
              "180    2\n",
              "20     2\n",
              "36     1\n",
              "      ..\n",
              "319    3\n",
              "110    3\n",
              "46     1\n",
              "324    2\n",
              "360    1\n",
              "Name: origin, Length: 274, dtype: int64"
            ]
          },
          "metadata": {
            "tags": []
          },
          "execution_count": 21
        }
      ]
    },
    {
      "cell_type": "code",
      "metadata": {
        "id": "D2O_erQZUhs6",
        "colab_type": "code",
        "colab": {
          "base_uri": "https://localhost:8080/",
          "height": 225
        },
        "outputId": "fd7ec463-c699-44dc-9ae6-d0b2d40bf531"
      },
      "source": [
        "y_train"
      ],
      "execution_count": 22,
      "outputs": [
        {
          "output_type": "execute_result",
          "data": {
            "text/plain": [
              "308    False\n",
              "153     True\n",
              "180    False\n",
              "20     False\n",
              "36      True\n",
              "       ...  \n",
              "319    False\n",
              "110    False\n",
              "46      True\n",
              "324    False\n",
              "360     True\n",
              "Name: origin, Length: 274, dtype: bool"
            ]
          },
          "metadata": {
            "tags": []
          },
          "execution_count": 22
        }
      ]
    },
    {
      "cell_type": "code",
      "metadata": {
        "id": "mNLwYTYSU9As",
        "colab_type": "code",
        "colab": {
          "base_uri": "https://localhost:8080/",
          "height": 225
        },
        "outputId": "c0351a04-c309-4a34-ae21-118013061aaf"
      },
      "source": [
        "predicted_origins = testing_probs.idxmax(axis=1)\n",
        "print(predicted_origins)"
      ],
      "execution_count": 23,
      "outputs": [
        {
          "output_type": "stream",
          "text": [
            "0      1\n",
            "1      1\n",
            "2      1\n",
            "3      1\n",
            "4      2\n",
            "      ..\n",
            "113    1\n",
            "114    1\n",
            "115    1\n",
            "116    2\n",
            "117    1\n",
            "Length: 118, dtype: int64\n"
          ],
          "name": "stdout"
        }
      ]
    },
    {
      "cell_type": "code",
      "metadata": {
        "id": "t2mPfSPuXRn9",
        "colab_type": "code",
        "colab": {
          "base_uri": "https://localhost:8080/",
          "height": 202
        },
        "outputId": "d6f6cd15-44fb-4d8e-95de-346618e010cd"
      },
      "source": [
        "testing_probs.head()"
      ],
      "execution_count": 24,
      "outputs": [
        {
          "output_type": "execute_result",
          "data": {
            "text/html": [
              "<div>\n",
              "<style scoped>\n",
              "    .dataframe tbody tr th:only-of-type {\n",
              "        vertical-align: middle;\n",
              "    }\n",
              "\n",
              "    .dataframe tbody tr th {\n",
              "        vertical-align: top;\n",
              "    }\n",
              "\n",
              "    .dataframe thead th {\n",
              "        text-align: right;\n",
              "    }\n",
              "</style>\n",
              "<table border=\"1\" class=\"dataframe\">\n",
              "  <thead>\n",
              "    <tr style=\"text-align: right;\">\n",
              "      <th></th>\n",
              "      <th>1</th>\n",
              "      <th>2</th>\n",
              "      <th>3</th>\n",
              "    </tr>\n",
              "  </thead>\n",
              "  <tbody>\n",
              "    <tr>\n",
              "      <th>0</th>\n",
              "      <td>0.898896</td>\n",
              "      <td>0.072305</td>\n",
              "      <td>0.032726</td>\n",
              "    </tr>\n",
              "    <tr>\n",
              "      <th>1</th>\n",
              "      <td>0.390384</td>\n",
              "      <td>0.223401</td>\n",
              "      <td>0.358604</td>\n",
              "    </tr>\n",
              "    <tr>\n",
              "      <th>2</th>\n",
              "      <td>0.969056</td>\n",
              "      <td>0.015841</td>\n",
              "      <td>0.031542</td>\n",
              "    </tr>\n",
              "    <tr>\n",
              "      <th>3</th>\n",
              "      <td>0.964060</td>\n",
              "      <td>0.033430</td>\n",
              "      <td>0.015891</td>\n",
              "    </tr>\n",
              "    <tr>\n",
              "      <th>4</th>\n",
              "      <td>0.300195</td>\n",
              "      <td>0.540543</td>\n",
              "      <td>0.160821</td>\n",
              "    </tr>\n",
              "  </tbody>\n",
              "</table>\n",
              "</div>"
            ],
            "text/plain": [
              "          1         2         3\n",
              "0  0.898896  0.072305  0.032726\n",
              "1  0.390384  0.223401  0.358604\n",
              "2  0.969056  0.015841  0.031542\n",
              "3  0.964060  0.033430  0.015891\n",
              "4  0.300195  0.540543  0.160821"
            ]
          },
          "metadata": {
            "tags": []
          },
          "execution_count": 24
        }
      ]
    },
    {
      "cell_type": "code",
      "metadata": {
        "id": "DD8QcPZvXX6v",
        "colab_type": "code",
        "colab": {
          "base_uri": "https://localhost:8080/",
          "height": 329
        },
        "outputId": "e2cdb38c-0b52-4c1b-b42a-b59da3e2f325"
      },
      "source": [
        "features"
      ],
      "execution_count": 25,
      "outputs": [
        {
          "output_type": "execute_result",
          "data": {
            "text/plain": [
              "['cyl_3',\n",
              " 'cyl_4',\n",
              " 'cyl_5',\n",
              " 'cyl_6',\n",
              " 'cyl_8',\n",
              " 'year_70',\n",
              " 'year_71',\n",
              " 'year_72',\n",
              " 'year_73',\n",
              " 'year_74',\n",
              " 'year_75',\n",
              " 'year_76',\n",
              " 'year_77',\n",
              " 'year_78',\n",
              " 'year_79',\n",
              " 'year_80',\n",
              " 'year_81',\n",
              " 'year_82']"
            ]
          },
          "metadata": {
            "tags": []
          },
          "execution_count": 25
        }
      ]
    },
    {
      "cell_type": "code",
      "metadata": {
        "id": "vT_xBrZUX0jH",
        "colab_type": "code",
        "colab": {}
      },
      "source": [
        ""
      ],
      "execution_count": 0,
      "outputs": []
    }
  ]
}