{
  "nbformat": 4,
  "nbformat_minor": 0,
  "metadata": {
    "colab": {
      "name": "Logistic_Regressions_P1_Binary.ipynb",
      "provenance": [],
      "authorship_tag": "ABX9TyNZudf3XAdfmDGBhXb+uUeW",
      "include_colab_link": true
    },
    "kernelspec": {
      "name": "python3",
      "display_name": "Python 3"
    }
  },
  "cells": [
    {
      "cell_type": "markdown",
      "metadata": {
        "id": "view-in-github",
        "colab_type": "text"
      },
      "source": [
        "<a href=\"https://colab.research.google.com/github/iqbalamo93/Logistic/blob/master/Logistic_Regressions_P1_Binary.ipynb\" target=\"_parent\"><img src=\"https://colab.research.google.com/assets/colab-badge.svg\" alt=\"Open In Colab\"/></a>"
      ]
    },
    {
      "cell_type": "code",
      "metadata": {
        "id": "hm1aNDkoSLcF",
        "colab_type": "code",
        "colab": {}
      },
      "source": [
        "import pandas as pd\n",
        "import numpy as np\n",
        "import matplotlib.pyplot as plt \n",
        "import seaborn as sns"
      ],
      "execution_count": 0,
      "outputs": []
    },
    {
      "cell_type": "code",
      "metadata": {
        "id": "NZPchnjKlrDe",
        "colab_type": "code",
        "colab": {}
      },
      "source": [
        "url='https://dsserver-prod-resources-1.s3.amazonaws.com/20/admissions.csv'"
      ],
      "execution_count": 0,
      "outputs": []
    },
    {
      "cell_type": "code",
      "metadata": {
        "id": "ueNQL3KSlsso",
        "colab_type": "code",
        "colab": {}
      },
      "source": [
        "df=pd.read_csv(url)"
      ],
      "execution_count": 0,
      "outputs": []
    },
    {
      "cell_type": "code",
      "metadata": {
        "id": "4J-bQJkUmA2x",
        "colab_type": "code",
        "outputId": "f28d7f78-1c35-4b3a-a4cf-527c477f726f",
        "colab": {
          "base_uri": "https://localhost:8080/",
          "height": 202
        }
      },
      "source": [
        "df.head()"
      ],
      "execution_count": 34,
      "outputs": [
        {
          "output_type": "execute_result",
          "data": {
            "text/html": [
              "<div>\n",
              "<style scoped>\n",
              "    .dataframe tbody tr th:only-of-type {\n",
              "        vertical-align: middle;\n",
              "    }\n",
              "\n",
              "    .dataframe tbody tr th {\n",
              "        vertical-align: top;\n",
              "    }\n",
              "\n",
              "    .dataframe thead th {\n",
              "        text-align: right;\n",
              "    }\n",
              "</style>\n",
              "<table border=\"1\" class=\"dataframe\">\n",
              "  <thead>\n",
              "    <tr style=\"text-align: right;\">\n",
              "      <th></th>\n",
              "      <th>admit</th>\n",
              "      <th>gpa</th>\n",
              "      <th>gre</th>\n",
              "    </tr>\n",
              "  </thead>\n",
              "  <tbody>\n",
              "    <tr>\n",
              "      <th>0</th>\n",
              "      <td>0</td>\n",
              "      <td>3.177277</td>\n",
              "      <td>594.102992</td>\n",
              "    </tr>\n",
              "    <tr>\n",
              "      <th>1</th>\n",
              "      <td>0</td>\n",
              "      <td>3.412655</td>\n",
              "      <td>631.528607</td>\n",
              "    </tr>\n",
              "    <tr>\n",
              "      <th>2</th>\n",
              "      <td>0</td>\n",
              "      <td>2.728097</td>\n",
              "      <td>553.714399</td>\n",
              "    </tr>\n",
              "    <tr>\n",
              "      <th>3</th>\n",
              "      <td>0</td>\n",
              "      <td>3.093559</td>\n",
              "      <td>551.089985</td>\n",
              "    </tr>\n",
              "    <tr>\n",
              "      <th>4</th>\n",
              "      <td>0</td>\n",
              "      <td>3.141923</td>\n",
              "      <td>537.184894</td>\n",
              "    </tr>\n",
              "  </tbody>\n",
              "</table>\n",
              "</div>"
            ],
            "text/plain": [
              "   admit       gpa         gre\n",
              "0      0  3.177277  594.102992\n",
              "1      0  3.412655  631.528607\n",
              "2      0  2.728097  553.714399\n",
              "3      0  3.093559  551.089985\n",
              "4      0  3.141923  537.184894"
            ]
          },
          "metadata": {
            "tags": []
          },
          "execution_count": 34
        }
      ]
    },
    {
      "cell_type": "code",
      "metadata": {
        "id": "Rd5q0-9SlytT",
        "colab_type": "code",
        "outputId": "355e1aca-ca77-4dc2-89d8-8788d2dc686f",
        "colab": {
          "base_uri": "https://localhost:8080/",
          "height": 297
        }
      },
      "source": [
        "sns.scatterplot(x='gpa',y='admit',data=df,hue='gre')"
      ],
      "execution_count": 35,
      "outputs": [
        {
          "output_type": "execute_result",
          "data": {
            "text/plain": [
              "<matplotlib.axes._subplots.AxesSubplot at 0x7f67e6a3c898>"
            ]
          },
          "metadata": {
            "tags": []
          },
          "execution_count": 35
        },
        {
          "output_type": "display_data",
          "data": {
            "image/png": "[encoded data removed]",
            "text/plain": [
              "<Figure size 432x288 with 1 Axes>"
            ]
          },
          "metadata": {
            "tags": [],
            "needs_background": "light"
          }
        }
      ]
    },
    {
      "cell_type": "code",
      "metadata": {
        "id": "Q6gVaBDLl7z9",
        "colab_type": "code",
        "outputId": "185f6c62-a197-46a5-a4bd-63b5566c64e7",
        "colab": {
          "base_uri": "https://localhost:8080/",
          "height": 297
        }
      },
      "source": [
        "sns.scatterplot(x='gpa',y='gre',data=df,hue='admit')"
      ],
      "execution_count": 36,
      "outputs": [
        {
          "output_type": "execute_result",
          "data": {
            "text/plain": [
              "<matplotlib.axes._subplots.AxesSubplot at 0x7f67e698ef28>"
            ]
          },
          "metadata": {
            "tags": []
          },
          "execution_count": 36
        },
        {
          "output_type": "display_data",
          "data": {
            "image/png": "[encoded data removed]",
            "text/plain": [
              "<Figure size 432x288 with 1 Axes>"
            ]
          },
          "metadata": {
            "tags": [],
            "needs_background": "light"
          }
        }
      ]
    },
    {
      "cell_type": "code",
      "metadata": {
        "id": "CtDn4yWAmNyl",
        "colab_type": "code",
        "outputId": "829dac53-d303-4419-e5f7-c8c75c2c08e8",
        "colab": {
          "base_uri": "https://localhost:8080/",
          "height": 297
        }
      },
      "source": [
        "sns.scatterplot(x='gre',y='admit',data=df)"
      ],
      "execution_count": 37,
      "outputs": [
        {
          "output_type": "execute_result",
          "data": {
            "text/plain": [
              "<matplotlib.axes._subplots.AxesSubplot at 0x7f67e68e9a90>"
            ]
          },
          "metadata": {
            "tags": []
          },
          "execution_count": 37
        },
        {
          "output_type": "display_data",
          "data": {
            "image/png": "[encoded data removed]",
            "text/plain": [
              "<Figure size 432x288 with 1 Axes>"
            ]
          },
          "metadata": {
            "tags": [],
            "needs_background": "light"
          }
        }
      ]
    },
    {
      "cell_type": "markdown",
      "metadata": {
        "id": "_hwtXcj3mccT",
        "colab_type": "text"
      },
      "source": [
        "In linear regression, we used the linear function y = mx + b to represent the relationship between the independent variables and the dependent variable. In logistic regression, we use the logistic function, which is a version of the linear function that is adapted for classification.\n",
        "\n",
        "Let's explore some of the logistic function's properties to better understand why it's useful for classification tasks. Unlike in linear regression, where the output can be any real value, in logistic regression the output has to be a real value between 0 and 1, since the output represents a probability value. Note that the model can't output a negative value or it would violate this criteria."
      ]
    },
    {
      "cell_type": "code",
      "metadata": {
        "id": "qIeg0LLlL1Gl",
        "colab_type": "code",
        "outputId": "46880125-41f6-470d-a445-f3c95ed4e49e",
        "colab": {
          "base_uri": "https://localhost:8080/",
          "height": 265
        }
      },
      "source": [
        "import numpy as np\n",
        "\n",
        "# Logistic Function\n",
        "def logistic(x):\n",
        "    # np.exp(x) raises x to the exponential power, ie e^x. e ~= 2.71828\n",
        "    return 1 / (1 + np.exp(-x)) \n",
        "    \n",
        "# Generate 50 real values, evenly spaced, between -6 and 6.\n",
        "x = np.linspace(-6,6,50, dtype=float)\n",
        "\n",
        "# Transform each number in t using the logistic function.\n",
        "y = logistic(x)\n",
        "\n",
        "# Plot the resulting data.\n",
        "plt.plot(x, y)\n",
        "plt.ylabel(\"Probability\")\n",
        "plt.show()"
      ],
      "execution_count": 38,
      "outputs": [
        {
          "output_type": "display_data",
          "data": {
            "image/png": "[encoded data removed]",
            "text/plain": [
              "<Figure size 432x288 with 1 Axes>"
            ]
          },
          "metadata": {
            "tags": [],
            "needs_background": "light"
          }
        }
      ]
    },
    {
      "cell_type": "code",
      "metadata": {
        "id": "1ukJ5Z_0MW9h",
        "colab_type": "code",
        "colab": {}
      },
      "source": [
        "from sklearn.linear_model import LogisticRegression\n",
        "logistic_model = LogisticRegression()\n"
      ],
      "execution_count": 0,
      "outputs": []
    },
    {
      "cell_type": "code",
      "metadata": {
        "id": "OGskZgXxM1fm",
        "colab_type": "code",
        "colab": {}
      },
      "source": [
        "X=df.drop('admit',axis=1).values\n",
        "y=df['admit'].values"
      ],
      "execution_count": 0,
      "outputs": []
    },
    {
      "cell_type": "code",
      "metadata": {
        "id": "GKM-V4aeOH_U",
        "colab_type": "code",
        "outputId": "41ee2c9c-e479-4767-e2b3-fe0cf4e9298a",
        "colab": {
          "base_uri": "https://localhost:8080/",
          "height": 104
        }
      },
      "source": [
        "logistic_model.fit(X=X,y=y)"
      ],
      "execution_count": 41,
      "outputs": [
        {
          "output_type": "execute_result",
          "data": {
            "text/plain": [
              "LogisticRegression(C=1.0, class_weight=None, dual=False, fit_intercept=True,\n",
              "                   intercept_scaling=1, l1_ratio=None, max_iter=100,\n",
              "                   multi_class='auto', n_jobs=None, penalty='l2',\n",
              "                   random_state=None, solver='lbfgs', tol=0.0001, verbose=0,\n",
              "                   warm_start=False)"
            ]
          },
          "metadata": {
            "tags": []
          },
          "execution_count": 41
        }
      ]
    },
    {
      "cell_type": "code",
      "metadata": {
        "id": "rIUoqDz6OLyQ",
        "colab_type": "code",
        "outputId": "da9d2132-5d46-4133-e4a7-ff058f12a518",
        "colab": {
          "base_uri": "https://localhost:8080/",
          "height": 139
        }
      },
      "source": [
        "logistic_model.predict_proba(X)"
      ],
      "execution_count": 42,
      "outputs": [
        {
          "output_type": "execute_result",
          "data": {
            "text/plain": [
              "array([[0.79396098, 0.20603902],\n",
              "       [0.46855616, 0.53144384],\n",
              "       [0.97182838, 0.02817162],\n",
              "       ...,\n",
              "       [0.21907978, 0.78092022],\n",
              "       [0.49828356, 0.50171644],\n",
              "       [0.58865811, 0.41134189]])"
            ]
          },
          "metadata": {
            "tags": []
          },
          "execution_count": 42
        }
      ]
    },
    {
      "cell_type": "code",
      "metadata": {
        "id": "WNwkLO8OPA1V",
        "colab_type": "code",
        "outputId": "833814f4-bb8e-4a62-d29e-85403e7b1c9d",
        "colab": {
          "base_uri": "https://localhost:8080/",
          "height": 1000
        }
      },
      "source": [
        "probabilities = logistic_model.predict_proba(X)\n",
        "# Probability that the row belongs to label `0`.\n",
        "probabilities[:,0]\n",
        "# Probabililty that the row belongs to label `1`.\n",
        "probabilities[:,1]"
      ],
      "execution_count": 43,
      "outputs": [
        {
          "output_type": "execute_result",
          "data": {
            "text/plain": [
              "array([0.20603902, 0.53144384, 0.02817162, 0.07801787, 0.06914569,\n",
              "       0.0435784 , 0.57763799, 0.22236872, 0.44033194, 0.15245506,\n",
              "       0.44241634, 0.32337971, 0.08584066, 0.03735439, 0.4271486 ,\n",
              "       0.12385001, 0.05979471, 0.10012221, 0.09896851, 0.04712339,\n",
              "       0.18304863, 0.03184246, 0.0135792 , 0.79051381, 0.00157982,\n",
              "       0.54410387, 0.48584138, 0.70948641, 0.07604935, 0.06117645,\n",
              "       0.04436531, 0.18378087, 0.36716034, 0.35560355, 0.05455452,\n",
              "       0.42940714, 0.07111964, 0.42415239, 0.21397955, 0.21439177,\n",
              "       0.0484898 , 0.10186677, 0.06670772, 0.2503748 , 0.30553006,\n",
              "       0.35257868, 0.16220762, 0.00823978, 0.14084377, 0.23361799,\n",
              "       0.0538861 , 0.19198959, 0.30368933, 0.08407138, 0.08613092,\n",
              "       0.21363259, 0.0342332 , 0.18449876, 0.05273005, 0.1085407 ,\n",
              "       0.43396219, 0.17051122, 0.0183063 , 0.18892156, 0.70601126,\n",
              "       0.52322373, 0.14402158, 0.01319884, 0.24087351, 0.25672627,\n",
              "       0.08016425, 0.15046678, 0.39950494, 0.34268446, 0.34405764,\n",
              "       0.52385757, 0.38567836, 0.31263219, 0.01903843, 0.28823426,\n",
              "       0.43583088, 0.0281294 , 0.37853042, 0.50253208, 0.04433241,\n",
              "       0.04981364, 0.07385041, 0.01703794, 0.09004193, 0.08149833,\n",
              "       0.59928444, 0.10607768, 0.02934779, 0.0617669 , 0.2201312 ,\n",
              "       0.02959807, 0.35197821, 0.34144056, 0.62528146, 0.30903727,\n",
              "       0.52186592, 0.02106324, 0.72217119, 0.29923584, 0.5367674 ,\n",
              "       0.39041495, 0.31681364, 0.21401059, 0.45799747, 0.08930799,\n",
              "       0.19423942, 0.10178292, 0.05578687, 0.45939143, 0.15030319,\n",
              "       0.20747477, 0.62424606, 0.03128471, 0.4071571 , 0.11717354,\n",
              "       0.04123141, 0.21327102, 0.16559111, 0.08043214, 0.28089667,\n",
              "       0.39917842, 0.01682802, 0.20049147, 0.43566194, 0.04985542,\n",
              "       0.04552054, 0.12727583, 0.02424427, 0.71635281, 0.32802559,\n",
              "       0.07080908, 0.18893057, 0.87985973, 0.32459589, 0.23255814,\n",
              "       0.25264327, 0.10282824, 0.84524712, 0.54523947, 0.01909664,\n",
              "       0.02986657, 0.2961905 , 0.12380192, 0.0424683 , 0.23652428,\n",
              "       0.62925461, 0.28750249, 0.60203231, 0.12334482, 0.10186759,\n",
              "       0.49106168, 0.05611873, 0.01318458, 0.67762831, 0.81724538,\n",
              "       0.05672042, 0.64158317, 0.0605916 , 0.2880833 , 0.18796181,\n",
              "       0.823738  , 0.77614785, 0.17381284, 0.15955385, 0.07847954,\n",
              "       0.21273399, 0.12192662, 0.11795044, 0.06351258, 0.17801322,\n",
              "       0.18598607, 0.12648185, 0.04884861, 0.01991981, 0.08668665,\n",
              "       0.10174784, 0.07689773, 0.11195942, 0.3816959 , 0.36275034,\n",
              "       0.34064289, 0.32079984, 0.14841568, 0.14206136, 0.21516505,\n",
              "       0.0067596 , 0.29821415, 0.12512864, 0.0182915 , 0.43915958,\n",
              "       0.15420881, 0.05898254, 0.26418563, 0.16594847, 0.28880144,\n",
              "       0.53353299, 0.06886346, 0.3401364 , 0.07324034, 0.33916056,\n",
              "       0.3659441 , 0.12748697, 0.0667972 , 0.26223011, 0.0704145 ,\n",
              "       0.49769914, 0.02709027, 0.28607404, 0.16477852, 0.06610589,\n",
              "       0.33538577, 0.03652285, 0.10482739, 0.01539132, 0.6407093 ,\n",
              "       0.53720167, 0.14777437, 0.03231956, 0.45933421, 0.20834297,\n",
              "       0.45362066, 0.47507308, 0.04110791, 0.04456798, 0.17684843,\n",
              "       0.09533756, 0.12311617, 0.12019619, 0.1057633 , 0.01932206,\n",
              "       0.03764025, 0.11408846, 0.45679981, 0.76393777, 0.45238567,\n",
              "       0.12757166, 0.40989629, 0.02711037, 0.65585706, 0.84365412,\n",
              "       0.27142181, 0.87416287, 0.04584976, 0.01965226, 0.28636582,\n",
              "       0.19044298, 0.00676009, 0.59955304, 0.35350695, 0.24977829,\n",
              "       0.05850459, 0.05839384, 0.21091291, 0.23933675, 0.06957493,\n",
              "       0.2787451 , 0.33122037, 0.08321264, 0.31593749, 0.01166181,\n",
              "       0.22819246, 0.03599208, 0.24827943, 0.21527122, 0.01083422,\n",
              "       0.79515351, 0.04043137, 0.71739338, 0.34754863, 0.01659123,\n",
              "       0.70689188, 0.58684307, 0.02669158, 0.26569077, 0.03108107,\n",
              "       0.05780367, 0.73049395, 0.06433075, 0.12673474, 0.20398782,\n",
              "       0.5913148 , 0.02645748, 0.12929266, 0.066499  , 0.0163671 ,\n",
              "       0.31520994, 0.57382487, 0.07472687, 0.36539561, 0.02828054,\n",
              "       0.02794097, 0.18448154, 0.19561581, 0.44100462, 0.7672847 ,\n",
              "       0.16795763, 0.19934583, 0.30681419, 0.51082665, 0.52058192,\n",
              "       0.34259683, 0.08163545, 0.01917185, 0.03559514, 0.0091766 ,\n",
              "       0.62019581, 0.18861135, 0.57171942, 0.03318011, 0.01722112,\n",
              "       0.3974222 , 0.63108354, 0.03931626, 0.55208856, 0.25971774,\n",
              "       0.27926575, 0.34803862, 0.26316395, 0.21165839, 0.42542478,\n",
              "       0.27357912, 0.21723579, 0.15886038, 0.04066891, 0.14107773,\n",
              "       0.27416205, 0.07084462, 0.04894745, 0.6926554 , 0.05582045,\n",
              "       0.20274126, 0.12477182, 0.10378076, 0.06380867, 0.05959061,\n",
              "       0.56713311, 0.34727362, 0.28380906, 0.09214311, 0.04095034,\n",
              "       0.25485708, 0.64046701, 0.15352647, 0.03875803, 0.02839239,\n",
              "       0.10095728, 0.39604372, 0.29493878, 0.02820726, 0.00238499,\n",
              "       0.14826865, 0.33620889, 0.19115241, 0.02148007, 0.32837921,\n",
              "       0.61392432, 0.17603039, 0.09109497, 0.40991936, 0.35813877,\n",
              "       0.14156075, 0.11986344, 0.2956186 , 0.40725523, 0.24527101,\n",
              "       0.3630926 , 0.01871648, 0.01636828, 0.38392615, 0.06646061,\n",
              "       0.6325174 , 0.12307316, 0.3065297 , 0.11148465, 0.51359732,\n",
              "       0.04735304, 0.28158827, 0.2444977 , 0.31022416, 0.41656941,\n",
              "       0.05660801, 0.05566359, 0.12717331, 0.01611744, 0.21014021,\n",
              "       0.72896603, 0.57968767, 0.52894795, 0.02569555, 0.16238047,\n",
              "       0.1643802 , 0.12006767, 0.09034965, 0.25288896, 0.01629661,\n",
              "       0.83261574, 0.81651241, 0.72320412, 0.31573656, 0.81429235,\n",
              "       0.50103754, 0.40554464, 0.60969438, 0.80055539, 0.83624308,\n",
              "       0.19529471, 0.37676556, 0.81959752, 0.23711699, 0.28615096,\n",
              "       0.70633062, 0.75299384, 0.89329097, 0.77797162, 0.93232164,\n",
              "       0.39709422, 0.92433429, 0.38421061, 0.64476575, 0.74749588,\n",
              "       0.22733007, 0.67974669, 0.62335218, 0.78146705, 0.7830432 ,\n",
              "       0.66220253, 0.42908894, 0.79001849, 0.53244829, 0.59215682,\n",
              "       0.71367375, 0.37712463, 0.77519062, 0.22946074, 0.55857916,\n",
              "       0.77804741, 0.44942168, 0.91291987, 0.49820291, 0.74771033,\n",
              "       0.39181791, 0.71758504, 0.18723393, 0.87718009, 0.91753215,\n",
              "       0.65508299, 0.8889637 , 0.44946471, 0.87264848, 0.43746045,\n",
              "       0.63031267, 0.08321339, 0.44947442, 0.0373584 , 0.64492652,\n",
              "       0.5497159 , 0.91168648, 0.56848728, 0.40721842, 0.21268435,\n",
              "       0.35183963, 0.92934946, 0.34984037, 0.96152254, 0.26004614,\n",
              "       0.85865127, 0.24096571, 0.7612534 , 0.57697466, 0.88597929,\n",
              "       0.74290087, 0.50804486, 0.40825308, 0.92566867, 0.07062338,\n",
              "       0.57788091, 0.1389775 , 0.73275438, 0.30513448, 0.39049196,\n",
              "       0.72180336, 0.78405458, 0.27893392, 0.65237159, 0.29527984,\n",
              "       0.14894152, 0.31191837, 0.86770894, 0.38319362, 0.25782533,\n",
              "       0.93104027, 0.54461372, 0.47564139, 0.76105829, 0.91331825,\n",
              "       0.36377778, 0.54122559, 0.74100804, 0.05612344, 0.11399449,\n",
              "       0.94606559, 0.49545561, 0.80580093, 0.33628588, 0.74311977,\n",
              "       0.95606996, 0.81562537, 0.76219736, 0.97591793, 0.10032597,\n",
              "       0.37682003, 0.54463112, 0.61737801, 0.36136816, 0.93166203,\n",
              "       0.66453346, 0.96376998, 0.52703732, 0.84773754, 0.63812321,\n",
              "       0.27839171, 0.87719202, 0.68006357, 0.65622558, 0.96814544,\n",
              "       0.20836981, 0.62812392, 0.77118751, 0.16427709, 0.39900868,\n",
              "       0.67683411, 0.11390635, 0.52204386, 0.64449182, 0.29252054,\n",
              "       0.14794886, 0.62581524, 0.48978669, 0.64209599, 0.19328972,\n",
              "       0.81582256, 0.31105657, 0.68729648, 0.93021129, 0.95906007,\n",
              "       0.21737448, 0.82196628, 0.34928136, 0.94597647, 0.87821632,\n",
              "       0.11063308, 0.86753045, 0.78362144, 0.44039782, 0.60491296,\n",
              "       0.82571397, 0.80194999, 0.1179498 , 0.02127309, 0.36727465,\n",
              "       0.60317409, 0.72510639, 0.20722979, 0.17484686, 0.82032716,\n",
              "       0.69462611, 0.87095234, 0.21424671, 0.85112754, 0.78420274,\n",
              "       0.9752021 , 0.55108725, 0.71430038, 0.782592  , 0.53462033,\n",
              "       0.31121266, 0.58936807, 0.89769173, 0.73809191, 0.72571672,\n",
              "       0.61460364, 0.78424047, 0.71094826, 0.75905744, 0.50158344,\n",
              "       0.69706186, 0.24757448, 0.74244895, 0.91502952, 0.85493858,\n",
              "       0.62534833, 0.65697534, 0.8837641 , 0.79960622, 0.83453097,\n",
              "       0.87423991, 0.92920821, 0.4797398 , 0.67629864, 0.83614772,\n",
              "       0.68680478, 0.84867915, 0.56258524, 0.95086454, 0.95060352,\n",
              "       0.64377568, 0.48370467, 0.54393511, 0.95194029, 0.98307705,\n",
              "       0.54166332, 0.64449101, 0.71852769, 0.41225871, 0.86816353,\n",
              "       0.87909153, 0.75740271, 0.62277501, 0.386461  , 0.18381049,\n",
              "       0.80331236, 0.74488893, 0.73294637, 0.69287406, 0.18854192,\n",
              "       0.76431787, 0.3514812 , 0.43524534, 0.3497049 , 0.7882717 ,\n",
              "       0.58100257, 0.88870471, 0.83667873, 0.69359652, 0.86050446,\n",
              "       0.08454261, 0.78092022, 0.50171644, 0.41134189])"
            ]
          },
          "metadata": {
            "tags": []
          },
          "execution_count": 43
        }
      ]
    },
    {
      "cell_type": "code",
      "metadata": {
        "id": "u2N69E5IPsuS",
        "colab_type": "code",
        "outputId": "62a3cff8-ab96-418c-8ac7-a527ffc545e8",
        "colab": {
          "base_uri": "https://localhost:8080/",
          "height": 283
        }
      },
      "source": [
        "plt.scatter(df[\"gre\"], probabilities[:,1])"
      ],
      "execution_count": 44,
      "outputs": [
        {
          "output_type": "execute_result",
          "data": {
            "text/plain": [
              "<matplotlib.collections.PathCollection at 0x7f67e6857a20>"
            ]
          },
          "metadata": {
            "tags": []
          },
          "execution_count": 44
        },
        {
          "output_type": "display_data",
          "data": {
            "image/png": "[encoded data removed]",
            "text/plain": [
              "<Figure size 432x288 with 1 Axes>"
            ]
          },
          "metadata": {
            "tags": [],
            "needs_background": "light"
          }
        }
      ]
    },
    {
      "cell_type": "code",
      "metadata": {
        "id": "NhKvDq31QC6Q",
        "colab_type": "code",
        "outputId": "2d1915f7-a012-47b7-9e2b-e20cd327f24f",
        "colab": {
          "base_uri": "https://localhost:8080/",
          "height": 283
        }
      },
      "source": [
        "fitted_labels = logistic_model.predict(X)\n",
        "plt.scatter(df[\"gpa\"], fitted_labels)"
      ],
      "execution_count": 45,
      "outputs": [
        {
          "output_type": "execute_result",
          "data": {
            "text/plain": [
              "<matplotlib.collections.PathCollection at 0x7f67e67bd5c0>"
            ]
          },
          "metadata": {
            "tags": []
          },
          "execution_count": 45
        },
        {
          "output_type": "display_data",
          "data": {
            "image/png": "[encoded data removed]",
            "text/plain": [
              "<Figure size 432x288 with 1 Axes>"
            ]
          },
          "metadata": {
            "tags": [],
            "needs_background": "light"
          }
        }
      ]
    },
    {
      "cell_type": "markdown",
      "metadata": {
        "id": "Ibt-jq_AQQhg",
        "colab_type": "text"
      },
      "source": [
        "Only with one feature\n"
      ]
    },
    {
      "cell_type": "code",
      "metadata": {
        "id": "4dypU4GrQtLq",
        "colab_type": "code",
        "colab": {}
      },
      "source": [
        "X=df.drop(['admit','gre'],axis=1).values\n",
        "y=df['admit'].values"
      ],
      "execution_count": 0,
      "outputs": []
    },
    {
      "cell_type": "code",
      "metadata": {
        "id": "X1vkwOQSTIT0",
        "colab_type": "code",
        "colab": {}
      },
      "source": [
        "logistic_model = LogisticRegression()\n",
        "logistic_model.fit(X=X, y=y)\n",
        "pred_probs = logistic_model.predict_proba(X)\n",
        "Predictions = logistic_model.predict(X)"
      ],
      "execution_count": 0,
      "outputs": []
    },
    {
      "cell_type": "code",
      "metadata": {
        "id": "bukdVwktTXdR",
        "colab_type": "code",
        "outputId": "7fa3f604-5f03-4869-e8f4-88330eab7768",
        "colab": {
          "base_uri": "https://localhost:8080/",
          "height": 213
        }
      },
      "source": [
        "Figure = plt.figure(figsize=(13,6))\n",
        "ax1 = Figure.add_subplot(2,2,1)#How many plot,in how many colmns,thsi one is?\n",
        "ax2 = Figure.add_subplot(2,2,2)\n",
        "ax1.scatter(df[\"gpa\"], Predictions, c='red')\n",
        "ax2.scatter(df[\"gpa\"], pred_probs[:,1])"
      ],
      "execution_count": 48,
      "outputs": [
        {
          "output_type": "execute_result",
          "data": {
            "text/plain": [
              "<matplotlib.collections.PathCollection at 0x7f67e6972cc0>"
            ]
          },
          "metadata": {
            "tags": []
          },
          "execution_count": 48
        },
        {
          "output_type": "display_data",
          "data": {
            "image/png": "[encoded data removed]",
            "text/plain": [
              "<Figure size 936x432 with 2 Axes>"
            ]
          },
          "metadata": {
            "tags": [],
            "needs_background": "light"
          }
        }
      ]
    },
    {
      "cell_type": "code",
      "metadata": {
        "id": "U8qzZbqSTclJ",
        "colab_type": "code",
        "colab": {}
      },
      "source": [
        "df['Predictions']=Predictions"
      ],
      "execution_count": 0,
      "outputs": []
    },
    {
      "cell_type": "code",
      "metadata": {
        "id": "blKBX3RFvWnA",
        "colab_type": "code",
        "outputId": "21f58b70-68e0-4ec7-aeac-33e564501ece",
        "colab": {
          "base_uri": "https://localhost:8080/",
          "height": 69
        }
      },
      "source": [
        "df['Predictions'].value_counts()"
      ],
      "execution_count": 50,
      "outputs": [
        {
          "output_type": "execute_result",
          "data": {
            "text/plain": [
              "0    507\n",
              "1    137\n",
              "Name: Predictions, dtype: int64"
            ]
          },
          "metadata": {
            "tags": []
          },
          "execution_count": 50
        }
      ]
    },
    {
      "cell_type": "code",
      "metadata": {
        "id": "4lO469dpvmj3",
        "colab_type": "code",
        "outputId": "fb4b6b34-02bd-4940-9286-c127ff70d63e",
        "colab": {
          "base_uri": "https://localhost:8080/",
          "height": 69
        }
      },
      "source": [
        "df['admit'].value_counts()"
      ],
      "execution_count": 51,
      "outputs": [
        {
          "output_type": "execute_result",
          "data": {
            "text/plain": [
              "0    400\n",
              "1    244\n",
              "Name: admit, dtype: int64"
            ]
          },
          "metadata": {
            "tags": []
          },
          "execution_count": 51
        }
      ]
    },
    {
      "cell_type": "code",
      "metadata": {
        "id": "t1ooQty2v1sn",
        "colab_type": "code",
        "outputId": "619dc6aa-0476-4f6c-f974-4f95b468907b",
        "colab": {
          "base_uri": "https://localhost:8080/",
          "height": 139
        }
      },
      "source": [
        "df[\"actual_label\"] = df[\"admit\"]\n",
        "matches = (df[\"Predictions\"] == df[\"actual_label\"])\n",
        "correct_predictions = df[matches]\n",
        "print(correct_predictions.head())\n",
        "accuracy = len(correct_predictions) / len(df)\n",
        "print(accuracy)"
      ],
      "execution_count": 52,
      "outputs": [
        {
          "output_type": "stream",
          "text": [
            "   admit       gpa         gre  Predictions  actual_label\n",
            "0      0  3.177277  594.102992            0             0\n",
            "1      0  3.412655  631.528607            0             0\n",
            "2      0  2.728097  553.714399            0             0\n",
            "3      0  3.093559  551.089985            0             0\n",
            "4      0  3.141923  537.184894            0             0\n",
            "0.6847826086956522\n"
          ],
          "name": "stdout"
        }
      ]
    },
    {
      "cell_type": "code",
      "metadata": {
        "id": "AGYxEC4jwwpN",
        "colab_type": "code",
        "outputId": "44c92718-c158-4849-c1f1-9a8728e8e42e",
        "colab": {
          "base_uri": "https://localhost:8080/",
          "height": 52
        }
      },
      "source": [
        "true_positive_filter = (df[\"Predictions\"] == 1) & (df[\"actual_label\"] == 1)\n",
        "true_positives = len(df[true_positive_filter])\n",
        "\n",
        "true_negative_filter = (df[\"Predictions\"] == 0) & (df[\"actual_label\"] == 0)\n",
        "true_negatives = len(df[true_negative_filter])\n",
        "\n",
        "print(true_positives)\n",
        "print(true_negatives)"
      ],
      "execution_count": 53,
      "outputs": [
        {
          "output_type": "stream",
          "text": [
            "89\n",
            "352\n"
          ],
          "name": "stdout"
        }
      ]
    },
    {
      "cell_type": "code",
      "metadata": {
        "id": "axLu8F_Xw6Yy",
        "colab_type": "code",
        "outputId": "83a37980-07e7-40e2-d169-d1f5259722b4",
        "colab": {
          "base_uri": "https://localhost:8080/",
          "height": 208
        }
      },
      "source": [
        "from sklearn.metrics import classification_report,confusion_matrix\n",
        "print(classification_report(df[\"actual_label\"] ,df[\"Predictions\"]))\n",
        "print(confusion_matrix(df[\"actual_label\"] ,df[\"Predictions\"]))\n"
      ],
      "execution_count": 54,
      "outputs": [
        {
          "output_type": "stream",
          "text": [
            "              precision    recall  f1-score   support\n",
            "\n",
            "           0       0.69      0.88      0.78       400\n",
            "           1       0.65      0.36      0.47       244\n",
            "\n",
            "    accuracy                           0.68       644\n",
            "   macro avg       0.67      0.62      0.62       644\n",
            "weighted avg       0.68      0.68      0.66       644\n",
            "\n",
            "[[352  48]\n",
            " [155  89]]\n"
          ],
          "name": "stdout"
        }
      ]
    },
    {
      "cell_type": "code",
      "metadata": {
        "id": "_pHffFng4mLw",
        "colab_type": "code",
        "outputId": "6e0f9414-94be-4c54-c987-1983151c7d8b",
        "colab": {
          "base_uri": "https://localhost:8080/",
          "height": 35
        }
      },
      "source": [
        "400/644"
      ],
      "execution_count": 55,
      "outputs": [
        {
          "output_type": "execute_result",
          "data": {
            "text/plain": [
              "0.6211180124223602"
            ]
          },
          "metadata": {
            "tags": []
          },
          "execution_count": 55
        }
      ]
    },
    {
      "cell_type": "code",
      "metadata": {
        "id": "4hoS_DXx718v",
        "colab_type": "code",
        "outputId": "071c7ae0-b0ed-4b93-ee1f-27c7cff95aa4",
        "colab": {
          "base_uri": "https://localhost:8080/",
          "height": 35
        }
      },
      "source": [
        "(352+89)/644 # Accuracy "
      ],
      "execution_count": 56,
      "outputs": [
        {
          "output_type": "execute_result",
          "data": {
            "text/plain": [
              "0.6847826086956522"
            ]
          },
          "metadata": {
            "tags": []
          },
          "execution_count": 56
        }
      ]
    },
    {
      "cell_type": "code",
      "metadata": {
        "id": "wkMfSLcjjF9o",
        "colab_type": "code",
        "outputId": "cf0a4673-a6bb-455c-ad59-e43c78f67974",
        "colab": {
          "base_uri": "https://localhost:8080/",
          "height": 35
        }
      },
      "source": [
        "352/(352+155) #Percision"
      ],
      "execution_count": 57,
      "outputs": [
        {
          "output_type": "execute_result",
          "data": {
            "text/plain": [
              "0.6942800788954635"
            ]
          },
          "metadata": {
            "tags": []
          },
          "execution_count": 57
        }
      ]
    },
    {
      "cell_type": "code",
      "metadata": {
        "id": "Quj-733LjQrv",
        "colab_type": "code",
        "colab": {
          "base_uri": "https://localhost:8080/",
          "height": 35
        },
        "outputId": "646d0fb8-d042-4819-fac4-6f60fe2f50ac"
      },
      "source": [
        "352/(352+48)#Recall,TPR,Sensitivity \n",
        "#How effective is this model at identifying positive outcomes?"
      ],
      "execution_count": 59,
      "outputs": [
        {
          "output_type": "execute_result",
          "data": {
            "text/plain": [
              "0.88"
            ]
          },
          "metadata": {
            "tags": []
          },
          "execution_count": 59
        }
      ]
    },
    {
      "cell_type": "code",
      "metadata": {
        "id": "g-ZPDxpBmqLJ",
        "colab_type": "code",
        "colab": {
          "base_uri": "https://localhost:8080/",
          "height": 35
        },
        "outputId": "9906147b-900b-4038-c7d4-2fbab0a51f98"
      },
      "source": [
        "155+89"
      ],
      "execution_count": 60,
      "outputs": [
        {
          "output_type": "execute_result",
          "data": {
            "text/plain": [
              "244"
            ]
          },
          "metadata": {
            "tags": []
          },
          "execution_count": 60
        }
      ]
    },
    {
      "cell_type": "code",
      "metadata": {
        "id": "uvXIzko9p0Gm",
        "colab_type": "code",
        "colab": {
          "base_uri": "https://localhost:8080/",
          "height": 35
        },
        "outputId": "c867b2a3-4c5b-46db-f6a8-ff332ca03dbc"
      },
      "source": [
        "#specificity ,TNR,How effective is this model at identifying negative outcomes?\n",
        "244/(244+155)"
      ],
      "execution_count": 61,
      "outputs": [
        {
          "output_type": "execute_result",
          "data": {
            "text/plain": [
              "0.6115288220551378"
            ]
          },
          "metadata": {
            "tags": []
          },
          "execution_count": 61
        }
      ]
    },
    {
      "cell_type": "code",
      "metadata": {
        "id": "xKiC63__qOnN",
        "colab_type": "code",
        "colab": {}
      },
      "source": [
        "tn, fp, fn, tp = confusion_matrix(df[\"actual_label\"] ,df[\"Predictions\"]).ravel()"
      ],
      "execution_count": 0,
      "outputs": []
    },
    {
      "cell_type": "code",
      "metadata": {
        "id": "BHVWf9pItLNr",
        "colab_type": "code",
        "colab": {
          "base_uri": "https://localhost:8080/",
          "height": 35
        },
        "outputId": "ae0a6137-d9fc-4ace-db15-aeeb637d505d"
      },
      "source": [
        "tn, fp, fn, tp"
      ],
      "execution_count": 64,
      "outputs": [
        {
          "output_type": "execute_result",
          "data": {
            "text/plain": [
              "(352, 48, 155, 89)"
            ]
          },
          "metadata": {
            "tags": []
          },
          "execution_count": 64
        }
      ]
    },
    {
      "cell_type": "code",
      "metadata": {
        "id": "0OXz3WIqtP7d",
        "colab_type": "code",
        "colab": {}
      },
      "source": [
        ""
      ],
      "execution_count": 0,
      "outputs": []
    }
  ]
}